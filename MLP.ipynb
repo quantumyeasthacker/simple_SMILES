{
 "cells": [
  {
   "cell_type": "code",
   "execution_count": 1,
   "id": "1ad0fe7a",
   "metadata": {
    "executionInfo": {
     "elapsed": 12021,
     "status": "ok",
     "timestamp": 1746578413806,
     "user": {
      "displayName": "Josiah Kratz",
      "userId": "17146873193500095813"
     },
     "user_tz": 240
    },
    "id": "1ad0fe7a"
   },
   "outputs": [],
   "source": [
    "import pandas as pd\n",
    "import numpy as np\n",
    "import torch\n",
    "import torch.nn as nn\n",
    "import torch.nn.functional as F\n",
    "import matplotlib.pyplot as plt\n",
    "import random"
   ]
  },
  {
   "cell_type": "markdown",
   "id": "cb2a3027",
   "metadata": {
    "id": "cb2a3027"
   },
   "source": [
    "future work\n",
    "- try better way of smiles embeddings to handle rings, branching, etc\n",
    "- simultaneously predict multiple chemical properties to obtain more generalizable representation"
   ]
  },
  {
   "cell_type": "code",
   "execution_count": null,
   "id": "64aa5955",
   "metadata": {
    "colab": {
     "base_uri": "https://localhost:8080/",
     "height": 204
    },
    "executionInfo": {
     "elapsed": 4132,
     "status": "ok",
     "timestamp": 1746578440241,
     "user": {
      "displayName": "Josiah Kratz",
      "userId": "17146873193500095813"
     },
     "user_tz": 240
    },
    "id": "64aa5955",
    "outputId": "485df40d-71a4-4757-8332-23ac22272f32"
   },
   "outputs": [
    {
     "data": {
      "application/vnd.google.colaboratory.intrinsic+json": {
       "summary": "{\n  \"name\": \"df\",\n  \"rows\": 16087,\n  \"fields\": [\n    {\n      \"column\": \"SMILES\",\n      \"properties\": {\n        \"dtype\": \"string\",\n        \"num_unique_values\": 15872,\n        \"samples\": [\n          \"CCN(CC)c1ccccc1\",\n          \"Cc1onc(-c2ccccc2Cl)c1C(=O)NC1C(=O)N2C1S(=O)C(C)(C)C2C(=O)O\",\n          \"COc1ccc(C(=O)NN)cc1\"\n        ],\n        \"semantic_type\": \"\",\n        \"description\": \"\"\n      }\n    },\n    {\n      \"column\": \"pIC50\",\n      \"properties\": {\n        \"dtype\": \"number\",\n        \"std\": 2.4795879209828944,\n        \"min\": 0.0,\n        \"max\": 10.97,\n        \"num_unique_values\": 558,\n        \"samples\": [\n          6.62,\n          10.68,\n          5.49\n        ],\n        \"semantic_type\": \"\",\n        \"description\": \"\"\n      }\n    },\n    {\n      \"column\": \"mol\",\n      \"properties\": {\n        \"dtype\": \"string\",\n        \"num_unique_values\": 16087,\n        \"samples\": [\n          \"<rdkit.Chem.rdchem.Mol object at 0x7f59a327a0a0>\",\n          \"<rdkit.Chem.rdchem.Mol object at 0x7f59a3123060>\",\n          \"<rdkit.Chem.rdchem.Mol object at 0x7f59a3135000>\"\n        ],\n        \"semantic_type\": \"\",\n        \"description\": \"\"\n      }\n    },\n    {\n      \"column\": \"num_atoms\",\n      \"properties\": {\n        \"dtype\": \"number\",\n        \"std\": 8,\n        \"min\": 3,\n        \"max\": 85,\n        \"num_unique_values\": 68,\n        \"samples\": [\n          5,\n          30,\n          21\n        ],\n        \"semantic_type\": \"\",\n        \"description\": \"\"\n      }\n    },\n    {\n      \"column\": \"logP\",\n      \"properties\": {\n        \"dtype\": \"number\",\n        \"std\": 1.6098613463986817,\n        \"min\": -5.395599999999993,\n        \"max\": 15.879199999999964,\n        \"num_unique_values\": 12887,\n        \"samples\": [\n          3.323500000000002,\n          0.2231999999999996,\n          3.238500000000001\n        ],\n        \"semantic_type\": \"\",\n        \"description\": \"\"\n      }\n    }\n  ]\n}",
       "type": "dataframe",
       "variable_name": "df"
      },
      "text/html": [
       "\n",
       "  <div id=\"df-326cb7df-0289-4bb5-8160-a15a97bc067a\" class=\"colab-df-container\">\n",
       "    <div>\n",
       "<style scoped>\n",
       "    .dataframe tbody tr th:only-of-type {\n",
       "        vertical-align: middle;\n",
       "    }\n",
       "\n",
       "    .dataframe tbody tr th {\n",
       "        vertical-align: top;\n",
       "    }\n",
       "\n",
       "    .dataframe thead th {\n",
       "        text-align: right;\n",
       "    }\n",
       "</style>\n",
       "<table border=\"1\" class=\"dataframe\">\n",
       "  <thead>\n",
       "    <tr style=\"text-align: right;\">\n",
       "      <th></th>\n",
       "      <th>SMILES</th>\n",
       "      <th>pIC50</th>\n",
       "      <th>mol</th>\n",
       "      <th>num_atoms</th>\n",
       "      <th>logP</th>\n",
       "    </tr>\n",
       "  </thead>\n",
       "  <tbody>\n",
       "    <tr>\n",
       "      <th>0</th>\n",
       "      <td>O=S(=O)(Nc1cccc(-c2cnc3ccccc3n2)c1)c1cccs1</td>\n",
       "      <td>4.26</td>\n",
       "      <td>&lt;rdkit.Chem.rdchem.Mol object at 0x7f59df45bc30&gt;</td>\n",
       "      <td>25</td>\n",
       "      <td>4.1591</td>\n",
       "    </tr>\n",
       "    <tr>\n",
       "      <th>1</th>\n",
       "      <td>O=c1cc(-c2nc(-c3ccc(-c4cn(CCP(=O)(O)O)nn4)cc3)...</td>\n",
       "      <td>4.34</td>\n",
       "      <td>&lt;rdkit.Chem.rdchem.Mol object at 0x7f59a320c9e0&gt;</td>\n",
       "      <td>36</td>\n",
       "      <td>3.6743</td>\n",
       "    </tr>\n",
       "    <tr>\n",
       "      <th>2</th>\n",
       "      <td>NC(=O)c1ccc2c(c1)nc(C1CCC(O)CC1)n2CCCO</td>\n",
       "      <td>4.53</td>\n",
       "      <td>&lt;rdkit.Chem.rdchem.Mol object at 0x7f59a320cac0&gt;</td>\n",
       "      <td>23</td>\n",
       "      <td>1.5361</td>\n",
       "    </tr>\n",
       "    <tr>\n",
       "      <th>3</th>\n",
       "      <td>NCCCn1c(C2CCNCC2)nc2cc(C(N)=O)ccc21</td>\n",
       "      <td>4.56</td>\n",
       "      <td>&lt;rdkit.Chem.rdchem.Mol object at 0x7f59a320cba0&gt;</td>\n",
       "      <td>22</td>\n",
       "      <td>0.9510</td>\n",
       "    </tr>\n",
       "    <tr>\n",
       "      <th>4</th>\n",
       "      <td>CNC(=S)Nc1cccc(-c2cnc3ccccc3n2)c1</td>\n",
       "      <td>4.59</td>\n",
       "      <td>&lt;rdkit.Chem.rdchem.Mol object at 0x7f59a320c7b0&gt;</td>\n",
       "      <td>21</td>\n",
       "      <td>3.2130</td>\n",
       "    </tr>\n",
       "  </tbody>\n",
       "</table>\n",
       "</div>\n",
       "    <div class=\"colab-df-buttons\">\n",
       "\n",
       "  <div class=\"colab-df-container\">\n",
       "    <button class=\"colab-df-convert\" onclick=\"convertToInteractive('df-326cb7df-0289-4bb5-8160-a15a97bc067a')\"\n",
       "            title=\"Convert this dataframe to an interactive table.\"\n",
       "            style=\"display:none;\">\n",
       "\n",
       "  <svg xmlns=\"http://www.w3.org/2000/svg\" height=\"24px\" viewBox=\"0 -960 960 960\">\n",
       "    <path d=\"M120-120v-720h720v720H120Zm60-500h600v-160H180v160Zm220 220h160v-160H400v160Zm0 220h160v-160H400v160ZM180-400h160v-160H180v160Zm440 0h160v-160H620v160ZM180-180h160v-160H180v160Zm440 0h160v-160H620v160Z\"/>\n",
       "  </svg>\n",
       "    </button>\n",
       "\n",
       "  <style>\n",
       "    .colab-df-container {\n",
       "      display:flex;\n",
       "      gap: 12px;\n",
       "    }\n",
       "\n",
       "    .colab-df-convert {\n",
       "      background-color: #E8F0FE;\n",
       "      border: none;\n",
       "      border-radius: 50%;\n",
       "      cursor: pointer;\n",
       "      display: none;\n",
       "      fill: #1967D2;\n",
       "      height: 32px;\n",
       "      padding: 0 0 0 0;\n",
       "      width: 32px;\n",
       "    }\n",
       "\n",
       "    .colab-df-convert:hover {\n",
       "      background-color: #E2EBFA;\n",
       "      box-shadow: 0px 1px 2px rgba(60, 64, 67, 0.3), 0px 1px 3px 1px rgba(60, 64, 67, 0.15);\n",
       "      fill: #174EA6;\n",
       "    }\n",
       "\n",
       "    .colab-df-buttons div {\n",
       "      margin-bottom: 4px;\n",
       "    }\n",
       "\n",
       "    [theme=dark] .colab-df-convert {\n",
       "      background-color: #3B4455;\n",
       "      fill: #D2E3FC;\n",
       "    }\n",
       "\n",
       "    [theme=dark] .colab-df-convert:hover {\n",
       "      background-color: #434B5C;\n",
       "      box-shadow: 0px 1px 3px 1px rgba(0, 0, 0, 0.15);\n",
       "      filter: drop-shadow(0px 1px 2px rgba(0, 0, 0, 0.3));\n",
       "      fill: #FFFFFF;\n",
       "    }\n",
       "  </style>\n",
       "\n",
       "    <script>\n",
       "      const buttonEl =\n",
       "        document.querySelector('#df-326cb7df-0289-4bb5-8160-a15a97bc067a button.colab-df-convert');\n",
       "      buttonEl.style.display =\n",
       "        google.colab.kernel.accessAllowed ? 'block' : 'none';\n",
       "\n",
       "      async function convertToInteractive(key) {\n",
       "        const element = document.querySelector('#df-326cb7df-0289-4bb5-8160-a15a97bc067a');\n",
       "        const dataTable =\n",
       "          await google.colab.kernel.invokeFunction('convertToInteractive',\n",
       "                                                    [key], {});\n",
       "        if (!dataTable) return;\n",
       "\n",
       "        const docLinkHtml = 'Like what you see? Visit the ' +\n",
       "          '<a target=\"_blank\" href=https://colab.research.google.com/notebooks/data_table.ipynb>data table notebook</a>'\n",
       "          + ' to learn more about interactive tables.';\n",
       "        element.innerHTML = '';\n",
       "        dataTable['output_type'] = 'display_data';\n",
       "        await google.colab.output.renderOutput(dataTable, element);\n",
       "        const docLink = document.createElement('div');\n",
       "        docLink.innerHTML = docLinkHtml;\n",
       "        element.appendChild(docLink);\n",
       "      }\n",
       "    </script>\n",
       "  </div>\n",
       "\n",
       "\n",
       "    <div id=\"df-abd3ddd8-ae25-4497-b524-79a2f01734df\">\n",
       "      <button class=\"colab-df-quickchart\" onclick=\"quickchart('df-abd3ddd8-ae25-4497-b524-79a2f01734df')\"\n",
       "                title=\"Suggest charts\"\n",
       "                style=\"display:none;\">\n",
       "\n",
       "<svg xmlns=\"http://www.w3.org/2000/svg\" height=\"24px\"viewBox=\"0 0 24 24\"\n",
       "     width=\"24px\">\n",
       "    <g>\n",
       "        <path d=\"M19 3H5c-1.1 0-2 .9-2 2v14c0 1.1.9 2 2 2h14c1.1 0 2-.9 2-2V5c0-1.1-.9-2-2-2zM9 17H7v-7h2v7zm4 0h-2V7h2v10zm4 0h-2v-4h2v4z\"/>\n",
       "    </g>\n",
       "</svg>\n",
       "      </button>\n",
       "\n",
       "<style>\n",
       "  .colab-df-quickchart {\n",
       "      --bg-color: #E8F0FE;\n",
       "      --fill-color: #1967D2;\n",
       "      --hover-bg-color: #E2EBFA;\n",
       "      --hover-fill-color: #174EA6;\n",
       "      --disabled-fill-color: #AAA;\n",
       "      --disabled-bg-color: #DDD;\n",
       "  }\n",
       "\n",
       "  [theme=dark] .colab-df-quickchart {\n",
       "      --bg-color: #3B4455;\n",
       "      --fill-color: #D2E3FC;\n",
       "      --hover-bg-color: #434B5C;\n",
       "      --hover-fill-color: #FFFFFF;\n",
       "      --disabled-bg-color: #3B4455;\n",
       "      --disabled-fill-color: #666;\n",
       "  }\n",
       "\n",
       "  .colab-df-quickchart {\n",
       "    background-color: var(--bg-color);\n",
       "    border: none;\n",
       "    border-radius: 50%;\n",
       "    cursor: pointer;\n",
       "    display: none;\n",
       "    fill: var(--fill-color);\n",
       "    height: 32px;\n",
       "    padding: 0;\n",
       "    width: 32px;\n",
       "  }\n",
       "\n",
       "  .colab-df-quickchart:hover {\n",
       "    background-color: var(--hover-bg-color);\n",
       "    box-shadow: 0 1px 2px rgba(60, 64, 67, 0.3), 0 1px 3px 1px rgba(60, 64, 67, 0.15);\n",
       "    fill: var(--button-hover-fill-color);\n",
       "  }\n",
       "\n",
       "  .colab-df-quickchart-complete:disabled,\n",
       "  .colab-df-quickchart-complete:disabled:hover {\n",
       "    background-color: var(--disabled-bg-color);\n",
       "    fill: var(--disabled-fill-color);\n",
       "    box-shadow: none;\n",
       "  }\n",
       "\n",
       "  .colab-df-spinner {\n",
       "    border: 2px solid var(--fill-color);\n",
       "    border-color: transparent;\n",
       "    border-bottom-color: var(--fill-color);\n",
       "    animation:\n",
       "      spin 1s steps(1) infinite;\n",
       "  }\n",
       "\n",
       "  @keyframes spin {\n",
       "    0% {\n",
       "      border-color: transparent;\n",
       "      border-bottom-color: var(--fill-color);\n",
       "      border-left-color: var(--fill-color);\n",
       "    }\n",
       "    20% {\n",
       "      border-color: transparent;\n",
       "      border-left-color: var(--fill-color);\n",
       "      border-top-color: var(--fill-color);\n",
       "    }\n",
       "    30% {\n",
       "      border-color: transparent;\n",
       "      border-left-color: var(--fill-color);\n",
       "      border-top-color: var(--fill-color);\n",
       "      border-right-color: var(--fill-color);\n",
       "    }\n",
       "    40% {\n",
       "      border-color: transparent;\n",
       "      border-right-color: var(--fill-color);\n",
       "      border-top-color: var(--fill-color);\n",
       "    }\n",
       "    60% {\n",
       "      border-color: transparent;\n",
       "      border-right-color: var(--fill-color);\n",
       "    }\n",
       "    80% {\n",
       "      border-color: transparent;\n",
       "      border-right-color: var(--fill-color);\n",
       "      border-bottom-color: var(--fill-color);\n",
       "    }\n",
       "    90% {\n",
       "      border-color: transparent;\n",
       "      border-bottom-color: var(--fill-color);\n",
       "    }\n",
       "  }\n",
       "</style>\n",
       "\n",
       "      <script>\n",
       "        async function quickchart(key) {\n",
       "          const quickchartButtonEl =\n",
       "            document.querySelector('#' + key + ' button');\n",
       "          quickchartButtonEl.disabled = true;  // To prevent multiple clicks.\n",
       "          quickchartButtonEl.classList.add('colab-df-spinner');\n",
       "          try {\n",
       "            const charts = await google.colab.kernel.invokeFunction(\n",
       "                'suggestCharts', [key], {});\n",
       "          } catch (error) {\n",
       "            console.error('Error during call to suggestCharts:', error);\n",
       "          }\n",
       "          quickchartButtonEl.classList.remove('colab-df-spinner');\n",
       "          quickchartButtonEl.classList.add('colab-df-quickchart-complete');\n",
       "        }\n",
       "        (() => {\n",
       "          let quickchartButtonEl =\n",
       "            document.querySelector('#df-abd3ddd8-ae25-4497-b524-79a2f01734df button');\n",
       "          quickchartButtonEl.style.display =\n",
       "            google.colab.kernel.accessAllowed ? 'block' : 'none';\n",
       "        })();\n",
       "      </script>\n",
       "    </div>\n",
       "\n",
       "    </div>\n",
       "  </div>\n"
      ],
      "text/plain": [
       "                                              SMILES  pIC50  \\\n",
       "0         O=S(=O)(Nc1cccc(-c2cnc3ccccc3n2)c1)c1cccs1   4.26   \n",
       "1  O=c1cc(-c2nc(-c3ccc(-c4cn(CCP(=O)(O)O)nn4)cc3)...   4.34   \n",
       "2             NC(=O)c1ccc2c(c1)nc(C1CCC(O)CC1)n2CCCO   4.53   \n",
       "3                NCCCn1c(C2CCNCC2)nc2cc(C(N)=O)ccc21   4.56   \n",
       "4                  CNC(=S)Nc1cccc(-c2cnc3ccccc3n2)c1   4.59   \n",
       "\n",
       "                                                mol  num_atoms    logP  \n",
       "0  <rdkit.Chem.rdchem.Mol object at 0x7f59df45bc30>         25  4.1591  \n",
       "1  <rdkit.Chem.rdchem.Mol object at 0x7f59a320c9e0>         36  3.6743  \n",
       "2  <rdkit.Chem.rdchem.Mol object at 0x7f59a320cac0>         23  1.5361  \n",
       "3  <rdkit.Chem.rdchem.Mol object at 0x7f59a320cba0>         22  0.9510  \n",
       "4  <rdkit.Chem.rdchem.Mol object at 0x7f59a320c7b0>         21  3.2130  "
      ]
     },
     "execution_count": 3,
     "metadata": {},
     "output_type": "execute_result"
    }
   ],
   "source": [
    "# https://www.kaggle.com/datasets/yanmaksi/big-molecules-smiles-dataset?resource=download\n",
    "df = pd.read_csv('SMILES_Big_Data_Set.csv')\n",
    "df.head()"
   ]
  },
  {
   "cell_type": "code",
   "execution_count": 4,
   "id": "43835a4a",
   "metadata": {
    "colab": {
     "base_uri": "https://localhost:8080/",
     "height": 449
    },
    "executionInfo": {
     "elapsed": 583,
     "status": "ok",
     "timestamp": 1746578440846,
     "user": {
      "displayName": "Josiah Kratz",
      "userId": "17146873193500095813"
     },
     "user_tz": 240
    },
    "id": "43835a4a",
    "outputId": "771a45e6-b7aa-4280-f75f-96dab40c16a5"
   },
   "outputs": [
    {
     "data": {
      "image/png": "[encoded data removed]",
      "text/plain": [
       "<Figure size 640x480 with 1 Axes>"
      ]
     },
     "metadata": {},
     "output_type": "display_data"
    }
   ],
   "source": [
    "plt.hist(df['num_atoms'])\n",
    "plt.xlabel('number of atoms')\n",
    "plt.show()"
   ]
  },
  {
   "cell_type": "code",
   "execution_count": 5,
   "id": "eff9a4f3",
   "metadata": {
    "executionInfo": {
     "elapsed": 20,
     "status": "ok",
     "timestamp": 1746578440868,
     "user": {
      "displayName": "Josiah Kratz",
      "userId": "17146873193500095813"
     },
     "user_tz": 240
    },
    "id": "eff9a4f3"
   },
   "outputs": [],
   "source": [
    "# build one-hot encoder (list of lists)\n",
    "def build_dict_list(split_string: str, smile_dict_list: list) -> list:\n",
    "    for c in split_string:\n",
    "        if c not in smile_dict_list:\n",
    "            smile_dict_list.append(c)\n",
    "    return smile_dict_list\n",
    "\n",
    "def make_dict(smile_dict_list: list) -> dict:\n",
    "    smile_dict = {}\n",
    "    for i, c in enumerate(smile_dict_list):\n",
    "        smile_dict[c] = i\n",
    "    return smile_dict\n",
    "\n",
    "def encoder(split_string: list, smile_dict: list, max_mol_len: int) -> list[list]:\n",
    "    # print(split_string)\n",
    "\n",
    "    encoded_smile = []\n",
    "    for i, c in enumerate(split_string):\n",
    "        if i < max_mol_len: # truncate if greater than max_mol_len\n",
    "            one_hot = [0]*len(smile_dict)\n",
    "            one_hot[smile_dict[c]] = 1\n",
    "            encoded_smile.append(one_hot)\n",
    "\n",
    "    # zero pad\n",
    "    while len(encoded_smile) < max_mol_len:\n",
    "        encoded_smile.append([0]*len(smile_dict))\n",
    "\n",
    "    return encoded_smile"
   ]
  },
  {
   "cell_type": "code",
   "execution_count": 6,
   "id": "e81b24a2",
   "metadata": {
    "executionInfo": {
     "elapsed": 9,
     "status": "ok",
     "timestamp": 1746578440885,
     "user": {
      "displayName": "Josiah Kratz",
      "userId": "17146873193500095813"
     },
     "user_tz": 240
    },
    "id": "e81b24a2"
   },
   "outputs": [],
   "source": [
    "def split_strings(smile_str: str) -> list:\n",
    "    del_char = ['[',']']\n",
    "    for d in del_char:\n",
    "        smile_str = smile_str.replace(d,'')\n",
    "\n",
    "    two_let_el = ['Cl','Br','Si','Se','se'] # two letter elements to check for\n",
    "\n",
    "    mol_list = []\n",
    "    skip = False\n",
    "    for i,c in enumerate(smile_str):\n",
    "        if not skip and i < len(smile_str)-1:\n",
    "            potential_el = ''.join([smile_str[i],smile_str[i+1]])\n",
    "            if potential_el in two_let_el:\n",
    "                skip = True\n",
    "                mol_list.append(potential_el)\n",
    "            if not skip:\n",
    "                mol_list.append(c)\n",
    "        elif not skip and i == len(smile_str)-1:\n",
    "            mol_list.append(c)\n",
    "        else:\n",
    "            skip = False\n",
    "\n",
    "    return mol_list\n",
    "\n",
    "# split test and train\n",
    "def data_split(df, test_frac=0.2):\n",
    "    ind = np.random.choice(len(df), size=int(test_frac*len(df)), replace=False)\n",
    "    df_test = df.iloc[ind]\n",
    "    df_train = df.drop(ind)\n",
    "    return df_test.reset_index(), df_train.reset_index()"
   ]
  },
  {
   "cell_type": "code",
   "execution_count": 7,
   "id": "79f2ca2a",
   "metadata": {
    "colab": {
     "base_uri": "https://localhost:8080/"
    },
    "executionInfo": {
     "elapsed": 3602,
     "status": "ok",
     "timestamp": 1746578444572,
     "user": {
      "displayName": "Josiah Kratz",
      "userId": "17146873193500095813"
     },
     "user_tz": 240
    },
    "id": "79f2ca2a",
    "outputId": "5b70bdd6-bf87-46df-ff15-4b402adcef5d"
   },
   "outputs": [
    {
     "name": "stdout",
     "output_type": "stream",
     "text": [
      "{'S': 0, '=': 1, 'c': 2, '1': 3, 'n': 4, 'H': 5, '(': 6, 'C': 7, '2': 8, '3': 9, ')': 10, '-': 11, 'N': 12, 'O': 13, 'Cl': 14, 's': 15, 'o': 16, '#': 17, '+': 18, 'Br': 19, 'F': 20, '4': 21, 'I': 22, 'P': 23, '5': 24, '6': 25, 'Se': 26, 'Si': 27, 'se': 28, '7': 29}\n"
     ]
    }
   ],
   "source": [
    "# data preprocessing\n",
    "max_mol_len = 40\n",
    "df1 = df[df['num_atoms'] <= max_mol_len].dropna()\n",
    "df2 = df1.reset_index()\n",
    "\n",
    "# split test and train\n",
    "df_test, df_train = data_split(df2[['SMILES', 'pIC50']])\n",
    "\n",
    "# break strings into list of characters\n",
    "ss_test = [split_strings(df_test['SMILES'][i]) for i in range(len(df_test))]\n",
    "ss_train = [split_strings(df_train['SMILES'][i]) for i in range(len(df_train))]\n",
    "\n",
    "# make list of unique characters for dict\n",
    "smile_dict_list = []\n",
    "for i in reversed(range(len(ss_train))):\n",
    "    smile_dict_list = build_dict_list(ss_train[i], smile_dict_list)\n",
    "\n",
    "# build dict\n",
    "smile_dict = make_dict(smile_dict_list)\n",
    "dict_len = len(smile_dict)\n",
    "print(smile_dict)\n",
    "\n",
    "# make one-hot encoding of molecules using dict\n",
    "encoded_smile_train = [encoder(ss_train[i],smile_dict,max_mol_len) for i in range(len(ss_train))]\n",
    "encoded_smile_test = [encoder(ss_test[i],smile_dict,max_mol_len) for i in range(len(ss_test))]\n",
    "\n",
    "# convert data to torch tensor\n",
    "x_train = torch.Tensor(encoded_smile_train)\n",
    "y_train = torch.Tensor(df_train['pIC50'])\n",
    "x_test = torch.Tensor(encoded_smile_test)\n",
    "x_test = x_test.flatten(1)\n",
    "y_test = torch.Tensor(df_test['pIC50'])"
   ]
  },
  {
   "cell_type": "code",
   "execution_count": 8,
   "id": "9e45a82b",
   "metadata": {
    "executionInfo": {
     "elapsed": 4,
     "status": "ok",
     "timestamp": 1746578444577,
     "user": {
      "displayName": "Josiah Kratz",
      "userId": "17146873193500095813"
     },
     "user_tz": 240
    },
    "id": "9e45a82b"
   },
   "outputs": [],
   "source": [
    "# model\n",
    "class MLP(nn.Module):\n",
    "    def __init__(self, max_mol_len, dict_len):\n",
    "        super().__init__()\n",
    "        self.fc1 = nn.Linear(max_mol_len*dict_len, int(max_mol_len*dict_len/2))\n",
    "        self.fc2 = nn.Linear(int(max_mol_len*dict_len/2), 1)\n",
    "\n",
    "    def forward(self, x):\n",
    "        x = self.fc1(x)\n",
    "        x = self.fc2(F.relu(x))\n",
    "        return x"
   ]
  },
  {
   "cell_type": "code",
   "execution_count": 9,
   "id": "cc6c0ece",
   "metadata": {
    "executionInfo": {
     "elapsed": 8,
     "status": "ok",
     "timestamp": 1746578444589,
     "user": {
      "displayName": "Josiah Kratz",
      "userId": "17146873193500095813"
     },
     "user_tz": 240
    },
    "id": "cc6c0ece"
   },
   "outputs": [],
   "source": [
    "# training loop for mini-batch or SGD\n",
    "\n",
    "def train_loop(lr, x_train, y_train, x_test, y_test, config):\n",
    "    mlp_mod = MLP(config['max_mol_len'], config['dict_len'])\n",
    "    mlp_mod = mlp_mod.to(device=config['device'])\n",
    "    optimizer = torch.optim.Adam(mlp_mod.parameters(), lr=lr)\n",
    "    loss = nn.MSELoss()\n",
    "    error = []\n",
    "    error_test = []\n",
    "    batch_size = config['batch_size']\n",
    "\n",
    "    for _ in range(config['N_epochs']):\n",
    "        mlp_mod.train()\n",
    "\n",
    "        ind = list(range(x_train.shape[0]))\n",
    "        random.shuffle(ind)\n",
    "        for i in range(0,len(ind),batch_size):\n",
    "            x_samp = x_train[i:i+batch_size].flatten(1).to(config['device'])\n",
    "\n",
    "            y_pred = mlp_mod(x_samp)\n",
    "\n",
    "            optimizer.zero_grad()\n",
    "\n",
    "            mseloss = loss(y_pred, y_train[i:i+batch_size].unsqueeze(1).to(config['device']))\n",
    "            error.append(mseloss.item())\n",
    "            mseloss.backward()\n",
    "            optimizer.step()\n",
    "\n",
    "        # evaluation\n",
    "        mlp_mod.eval()\n",
    "        y_pred = mlp_mod(x_test.to(config['device'])).squeeze(1)\n",
    "        mseloss = loss(y_pred, y_test.to(config['device']))\n",
    "        error_test.append(mseloss.item())\n",
    "\n",
    "    return error, error_test"
   ]
  },
  {
   "cell_type": "code",
   "execution_count": 14,
   "id": "c29868cf",
   "metadata": {
    "colab": {
     "base_uri": "https://localhost:8080/",
     "height": 500
    },
    "executionInfo": {
     "elapsed": 576770,
     "status": "ok",
     "timestamp": 1746583046589,
     "user": {
      "displayName": "Josiah Kratz",
      "userId": "17146873193500095813"
     },
     "user_tz": 240
    },
    "id": "c29868cf",
    "outputId": "a192e953-e4b9-4359-98a1-e9af69b884ac"
   },
   "outputs": [
    {
     "name": "stdout",
     "output_type": "stream",
     "text": [
      "complete\n",
      "complete\n",
      "complete\n"
     ]
    },
    {
     "data": {
      "image/png": "[encoded data removed]",
      "text/plain": [
       "<Figure size 640x480 with 1 Axes>"
      ]
     },
     "metadata": {},
     "output_type": "display_data"
    }
   ],
   "source": [
    "# mini-batch\n",
    "batch_size = 100\n",
    "N_epochs = 1000\n",
    "kernel_size = [2,dict_len]\n",
    "device = torch.device(\"cuda\" if torch.cuda.is_available() else \"cpu\")\n",
    "\n",
    "config = {\"N_epochs\": N_epochs,\n",
    "          \"kernel_size\": kernel_size,\n",
    "          \"device\": device,\n",
    "          \"max_mol_len\": max_mol_len,\n",
    "          \"dict_len\": dict_len,\n",
    "          \"batch_size\": batch_size}\n",
    "\n",
    "lr = [1e-3, 1e-4, 1e-5]\n",
    "col = ['g','r','k']\n",
    "for i,l in enumerate(lr):\n",
    "    error, error_test = train_loop(l, x_train, y_train, x_test, y_test, config)\n",
    "    print('complete')\n",
    "    # plt.plot(range(N_epochs), error, color=col[i], linestyle='--')\n",
    "    plt.plot(range(N_epochs), error_test, color=col[i])\n",
    "plt.yscale('log')\n",
    "plt.ylabel('loss')\n",
    "plt.xlabel('epoch')\n",
    "plt.show()"
   ]
  },
  {
   "cell_type": "code",
   "execution_count": null,
   "id": "9b050c97",
   "metadata": {
    "id": "9b050c97"
   },
   "outputs": [],
   "source": []
  }
 ],
 "metadata": {
  "accelerator": "GPU",
  "colab": {
   "gpuType": "T4",
   "provenance": []
  },
  "kernelspec": {
   "display_name": "Python 3",
   "name": "python3"
  },
  "language_info": {
   "codemirror_mode": {
    "name": "ipython",
    "version": 3
   },
   "file_extension": ".py",
   "mimetype": "text/x-python",
   "name": "python",
   "nbconvert_exporter": "python",
   "pygments_lexer": "ipython3",
   "version": "3.11.5"
  }
 },
 "nbformat": 4,
 "nbformat_minor": 5
}
