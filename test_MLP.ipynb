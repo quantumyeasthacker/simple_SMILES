{
 "cells": [
  {
   "cell_type": "code",
   "execution_count": 1,
   "id": "1ad0fe7a",
   "metadata": {},
   "outputs": [],
   "source": [
    "import pandas as pd\n",
    "import numpy as np\n",
    "import torch\n",
    "import torch.nn as nn\n",
    "import torch.nn.functional as F\n",
    "import matplotlib.pyplot as plt"
   ]
  },
  {
   "cell_type": "code",
   "execution_count": 2,
   "id": "64aa5955",
   "metadata": {},
   "outputs": [
    {
     "data": {
      "text/html": [
       "<div>\n",
       "<style scoped>\n",
       "    .dataframe tbody tr th:only-of-type {\n",
       "        vertical-align: middle;\n",
       "    }\n",
       "\n",
       "    .dataframe tbody tr th {\n",
       "        vertical-align: top;\n",
       "    }\n",
       "\n",
       "    .dataframe thead th {\n",
       "        text-align: right;\n",
       "    }\n",
       "</style>\n",
       "<table border=\"1\" class=\"dataframe\">\n",
       "  <thead>\n",
       "    <tr style=\"text-align: right;\">\n",
       "      <th></th>\n",
       "      <th>SMILES</th>\n",
       "      <th>pIC50</th>\n",
       "      <th>mol</th>\n",
       "      <th>num_atoms</th>\n",
       "      <th>logP</th>\n",
       "    </tr>\n",
       "  </thead>\n",
       "  <tbody>\n",
       "    <tr>\n",
       "      <th>0</th>\n",
       "      <td>O=S(=O)(Nc1cccc(-c2cnc3ccccc3n2)c1)c1cccs1</td>\n",
       "      <td>4.26</td>\n",
       "      <td>&lt;rdkit.Chem.rdchem.Mol object at 0x7f59df45bc30&gt;</td>\n",
       "      <td>25</td>\n",
       "      <td>4.1591</td>\n",
       "    </tr>\n",
       "    <tr>\n",
       "      <th>1</th>\n",
       "      <td>O=c1cc(-c2nc(-c3ccc(-c4cn(CCP(=O)(O)O)nn4)cc3)...</td>\n",
       "      <td>4.34</td>\n",
       "      <td>&lt;rdkit.Chem.rdchem.Mol object at 0x7f59a320c9e0&gt;</td>\n",
       "      <td>36</td>\n",
       "      <td>3.6743</td>\n",
       "    </tr>\n",
       "    <tr>\n",
       "      <th>2</th>\n",
       "      <td>NC(=O)c1ccc2c(c1)nc(C1CCC(O)CC1)n2CCCO</td>\n",
       "      <td>4.53</td>\n",
       "      <td>&lt;rdkit.Chem.rdchem.Mol object at 0x7f59a320cac0&gt;</td>\n",
       "      <td>23</td>\n",
       "      <td>1.5361</td>\n",
       "    </tr>\n",
       "    <tr>\n",
       "      <th>3</th>\n",
       "      <td>NCCCn1c(C2CCNCC2)nc2cc(C(N)=O)ccc21</td>\n",
       "      <td>4.56</td>\n",
       "      <td>&lt;rdkit.Chem.rdchem.Mol object at 0x7f59a320cba0&gt;</td>\n",
       "      <td>22</td>\n",
       "      <td>0.9510</td>\n",
       "    </tr>\n",
       "    <tr>\n",
       "      <th>4</th>\n",
       "      <td>CNC(=S)Nc1cccc(-c2cnc3ccccc3n2)c1</td>\n",
       "      <td>4.59</td>\n",
       "      <td>&lt;rdkit.Chem.rdchem.Mol object at 0x7f59a320c7b0&gt;</td>\n",
       "      <td>21</td>\n",
       "      <td>3.2130</td>\n",
       "    </tr>\n",
       "  </tbody>\n",
       "</table>\n",
       "</div>"
      ],
      "text/plain": [
       "                                              SMILES  pIC50  \\\n",
       "0         O=S(=O)(Nc1cccc(-c2cnc3ccccc3n2)c1)c1cccs1   4.26   \n",
       "1  O=c1cc(-c2nc(-c3ccc(-c4cn(CCP(=O)(O)O)nn4)cc3)...   4.34   \n",
       "2             NC(=O)c1ccc2c(c1)nc(C1CCC(O)CC1)n2CCCO   4.53   \n",
       "3                NCCCn1c(C2CCNCC2)nc2cc(C(N)=O)ccc21   4.56   \n",
       "4                  CNC(=S)Nc1cccc(-c2cnc3ccccc3n2)c1   4.59   \n",
       "\n",
       "                                                mol  num_atoms    logP  \n",
       "0  <rdkit.Chem.rdchem.Mol object at 0x7f59df45bc30>         25  4.1591  \n",
       "1  <rdkit.Chem.rdchem.Mol object at 0x7f59a320c9e0>         36  3.6743  \n",
       "2  <rdkit.Chem.rdchem.Mol object at 0x7f59a320cac0>         23  1.5361  \n",
       "3  <rdkit.Chem.rdchem.Mol object at 0x7f59a320cba0>         22  0.9510  \n",
       "4  <rdkit.Chem.rdchem.Mol object at 0x7f59a320c7b0>         21  3.2130  "
      ]
     },
     "execution_count": 2,
     "metadata": {},
     "output_type": "execute_result"
    }
   ],
   "source": [
    "# https://www.kaggle.com/datasets/yanmaksi/big-molecules-smiles-dataset?resource=download\n",
    "df = pd.read_csv('SMILES_Big_Data_Set.csv')\n",
    "df.head()"
   ]
  },
  {
   "cell_type": "code",
   "execution_count": 3,
   "id": "43835a4a",
   "metadata": {},
   "outputs": [
    {
     "data": {
      "image/png": "[encoded data removed]",
      "text/plain": [
       "<Figure size 640x480 with 1 Axes>"
      ]
     },
     "metadata": {},
     "output_type": "display_data"
    }
   ],
   "source": [
    "plt.hist(df['num_atoms'])\n",
    "plt.xlabel('number of atoms')\n",
    "plt.show()"
   ]
  },
  {
   "cell_type": "code",
   "execution_count": 14,
   "id": "eff9a4f3",
   "metadata": {},
   "outputs": [],
   "source": [
    "# build one-hot encoder (list of lists)\n",
    "def build_dict_list(split_string: str, smile_dict_list: list) -> list:\n",
    "    for c in split_string:\n",
    "        if c not in smile_dict_list:\n",
    "            smile_dict_list.append(c)\n",
    "    return smile_dict_list\n",
    "\n",
    "def make_dict(smile_dict_list: list) -> dict:\n",
    "    smile_dict = {}\n",
    "    for i, c in enumerate(smile_dict_list):\n",
    "        smile_dict[c] = i\n",
    "    return smile_dict\n",
    "\n",
    "def encoder(split_string: list, smile_dict: list, max_mol_len: int) -> list[list]:\n",
    "    # print(split_string)\n",
    "\n",
    "    encoded_smile = []\n",
    "    for i, c in enumerate(split_string):\n",
    "        if i < max_mol_len: # truncate if greater than max_mol_len\n",
    "            one_hot = [0]*len(smile_dict)\n",
    "            one_hot[smile_dict[c]] = 1\n",
    "            encoded_smile.append(one_hot)\n",
    "\n",
    "    # zero pad\n",
    "    while len(encoded_smile) < max_mol_len:\n",
    "        encoded_smile.append([0]*len(smile_dict))\n",
    "\n",
    "    return encoded_smile"
   ]
  },
  {
   "cell_type": "code",
   "execution_count": 15,
   "id": "72e183ae",
   "metadata": {},
   "outputs": [],
   "source": [
    "# training functions\n",
    "\n",
    "# split test and train\n",
    "def data_split(df, test_frac=0.2):\n",
    "    ind = np.random.choice(len(df), size=int(test_frac*len(df)), replace=False)\n",
    "    df_test = df.iloc[ind]\n",
    "    df_train = df.drop(ind)\n",
    "    return df_test.reset_index(), df_train.reset_index()\n",
    "\n",
    "# sample without replacement\n",
    "def data_sample(X, Y, batch_size=10):\n",
    "    ind = np.random.choice(len(X), size=batch_size, replace=False)\n",
    "    return X[ind], Y[ind]"
   ]
  },
  {
   "cell_type": "code",
   "execution_count": 16,
   "id": "e81b24a2",
   "metadata": {},
   "outputs": [],
   "source": [
    "def split_strings(smile_str: str) -> list:\n",
    "    del_char = ['[',']']\n",
    "    for d in del_char:\n",
    "        smile_str = smile_str.replace(d,'')\n",
    "\n",
    "    two_let_el = ['Cl','Br','Si','Se','se'] # two letter elements to check for\n",
    "\n",
    "    mol_list = []\n",
    "    skip = False\n",
    "    for i,c in enumerate(smile_str):\n",
    "        if not skip and i < len(smile_str)-1:\n",
    "            potential_el = ''.join([smile_str[i],smile_str[i+1]])\n",
    "            if potential_el in two_let_el:\n",
    "                skip = True\n",
    "                mol_list.append(potential_el)\n",
    "            if not skip:\n",
    "                mol_list.append(c)\n",
    "        elif not skip and i == len(smile_str)-1:\n",
    "            mol_list.append(c)\n",
    "        else:\n",
    "            skip = False\n",
    "\n",
    "    return mol_list"
   ]
  },
  {
   "cell_type": "code",
   "execution_count": 17,
   "id": "79f2ca2a",
   "metadata": {},
   "outputs": [
    {
     "name": "stdout",
     "output_type": "stream",
     "text": [
      "{'N': 0, '=': 1, '+': 2, 'C': 3, 'c': 4, '1': 5, '(': 6, 'O': 7, ')': 8, '-': 9, 'o': 10, 'S': 11, 'n': 12, 'H': 13, '2': 14, '3': 15, 'Cl': 16, 's': 17, '#': 18, 'Br': 19, 'I': 20, 'F': 21, '4': 22, 'P': 23, '5': 24, 'Se': 25, 'Si': 26, '6': 27, 'se': 28, '7': 29}\n"
     ]
    }
   ],
   "source": [
    "# data preprocessing\n",
    "max_mol_len = 40\n",
    "df1 = df[df['num_atoms'] <= max_mol_len].dropna()\n",
    "df2 = df1.reset_index()\n",
    "\n",
    "# split test and train\n",
    "df_test, df_train = data_split(df2[['SMILES', 'pIC50']])\n",
    "\n",
    "# break strings into list of characters\n",
    "ss_test = [split_strings(df_test['SMILES'][i]) for i in range(len(df_test))]\n",
    "ss_train = [split_strings(df_train['SMILES'][i]) for i in range(len(df_train))]\n",
    "\n",
    "# make list of unique characters for dict\n",
    "smile_dict_list = []\n",
    "for i in reversed(range(len(ss_train))):\n",
    "    smile_dict_list = build_dict_list(ss_train[i], smile_dict_list)\n",
    "\n",
    "# build dict\n",
    "smile_dict = make_dict(smile_dict_list)\n",
    "dict_len = len(smile_dict)\n",
    "print(smile_dict)\n",
    "\n",
    "# make one-hot encoding of molecules using dict\n",
    "encoded_smile_train = [encoder(ss_train[i],smile_dict,max_mol_len) for i in range(len(ss_train))]\n",
    "encoded_smile_test = [encoder(ss_test[i],smile_dict,max_mol_len) for i in range(len(ss_test))]\n",
    "\n",
    "# convert data to torch tensor\n",
    "x_train = torch.Tensor(encoded_smile_train)\n",
    "y_train = torch.Tensor(df_train['pIC50'])\n",
    "x_test = torch.Tensor(encoded_smile_test)\n",
    "x_test = x_test.flatten(1)\n",
    "y_test = torch.Tensor(df_test['pIC50'])"
   ]
  },
  {
   "cell_type": "markdown",
   "id": "6bc53de2",
   "metadata": {},
   "source": [
    "- what does nn.Module and super().__init__() do\n",
    "    - including nn.Module allows model to inherit torch.nn.Module, which is required for storing layers and keeping track of gradients\n",
    "    - including super().__init__() properly initializes nn.Module\n",
    "\n",
    "future work\n",
    "- use fc 2 layer MLP to compare\n",
    "- use data loader for larger datasets\n",
    "- try better way of smiles embeddings to handle rings, branching, etc"
   ]
  },
  {
   "cell_type": "code",
   "execution_count": 18,
   "id": "9e45a82b",
   "metadata": {},
   "outputs": [],
   "source": [
    "# model\n",
    "class MLP(nn.Module):\n",
    "    def __init__(self, max_mol_len, dict_len):\n",
    "        super().__init__()\n",
    "        self.fc1 = nn.Linear(max_mol_len*dict_len, int(max_mol_len*dict_len/2))\n",
    "        self.fc2 = nn.Linear(int(max_mol_len*dict_len/2), 1)\n",
    "\n",
    "    def forward(self, x):\n",
    "        x = self.fc1(x)\n",
    "        x = self.fc2(F.relu(x))\n",
    "        return x"
   ]
  },
  {
   "cell_type": "code",
   "execution_count": 19,
   "id": "7c23d875",
   "metadata": {},
   "outputs": [],
   "source": [
    "# training loop\n",
    "\n",
    "def train_loop(N_epochs, batch_size, lr):\n",
    "    mlp_mod = MLP(max_mol_len, dict_len)\n",
    "    optimizer = torch.optim.Adam(mlp_mod.parameters(), lr=lr)\n",
    "    loss = nn.MSELoss()\n",
    "    error = []\n",
    "    error_test = []\n",
    "\n",
    "    for _ in range(N_epochs):\n",
    "        mlp_mod.train()\n",
    "\n",
    "        x_sample, y_sample = data_sample(x_train, y_train, batch_size=batch_size)\n",
    "        x_sample = x_sample.flatten(1) # adding in channel dimension\n",
    "\n",
    "        y_pred = mlp_mod(x_sample)\n",
    "        y_pred = y_pred.squeeze(1)\n",
    "\n",
    "        optimizer.zero_grad()\n",
    "\n",
    "        mseloss = loss(y_pred, y_sample)\n",
    "        error.append(mseloss.item())\n",
    "        mseloss.backward()\n",
    "        optimizer.step()\n",
    "\n",
    "        # evaluation\n",
    "        mlp_mod.eval()\n",
    "        y_pred = mlp_mod(x_test).squeeze(1)\n",
    "        mseloss = loss(y_pred, y_test)\n",
    "        error_test.append(mseloss.item())\n",
    "\n",
    "    return error, error_test"
   ]
  },
  {
   "cell_type": "code",
   "execution_count": 20,
   "id": "251505f1",
   "metadata": {},
   "outputs": [
    {
     "data": {
      "image/png": "[encoded data removed]",
      "text/plain": [
       "<Figure size 640x480 with 1 Axes>"
      ]
     },
     "metadata": {},
     "output_type": "display_data"
    }
   ],
   "source": [
    "N_epochs = 3000\n",
    "batch_size = 1000\n",
    "\n",
    "lr = [1e-2, 1e-3, 1e-4]\n",
    "col = ['g','r','k']\n",
    "for i,l in enumerate(lr):\n",
    "    error, error_test = train_loop(N_epochs, batch_size, lr=l)\n",
    "    # plt.plot(range(N_epochs), error, color=col[i], linestyle='--')\n",
    "    plt.plot(range(N_epochs), error_test, color=col[i])\n",
    "plt.yscale('log')\n",
    "plt.show()"
   ]
  },
  {
   "cell_type": "code",
   "execution_count": null,
   "id": "9b050c97",
   "metadata": {},
   "outputs": [],
   "source": []
  }
 ],
 "metadata": {
  "kernelspec": {
   "display_name": "Python 3",
   "language": "python",
   "name": "python3"
  },
  "language_info": {
   "codemirror_mode": {
    "name": "ipython",
    "version": 3
   },
   "file_extension": ".py",
   "mimetype": "text/x-python",
   "name": "python",
   "nbconvert_exporter": "python",
   "pygments_lexer": "ipython3",
   "version": "3.11.5"
  }
 },
 "nbformat": 4,
 "nbformat_minor": 5
}
